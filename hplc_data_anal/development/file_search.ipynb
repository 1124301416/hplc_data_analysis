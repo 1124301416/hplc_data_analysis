{
 "cells": [
  {
   "cell_type": "code",
   "execution_count": 1,
   "metadata": {
    "collapsed": true
   },
   "outputs": [
    {
     "name": "stdout",
     "output_type": "stream",
     "text": [
      "here\n",
      "1\n",
      "2\n",
      "3\n",
      "4\n",
      "5\n",
      "6\n",
      "7\n",
      "8\n",
      "9\n",
      "10\n",
      "11\n",
      "12\n",
      "13\n",
      "14\n",
      "15\n",
      "16\n",
      "17\n",
      "18\n",
      "19\n",
      "20\n",
      "21\n",
      "22\n",
      "23\n",
      "24\n",
      "25\n",
      "26\n",
      "27\n",
      "28\n",
      "29\n",
      "30\n",
      "31\n",
      "32\n",
      "33\n",
      "34\n",
      "35\n",
      "36\n",
      "37\n",
      "38\n",
      "39\n",
      "40\n",
      "41\n",
      "42\n",
      "43\n",
      "44\n",
      "45\n",
      "46\n",
      "47\n",
      "48\n",
      "49\n",
      "50\n",
      "51\n",
      "52\n",
      "53\n",
      "54\n",
      "55\n",
      "56\n",
      "57\n",
      "58\n",
      "59\n",
      "60\n",
      "61\n",
      "62\n",
      "63\n",
      "64\n",
      "65\n",
      "66\n",
      "67\n",
      "68\n",
      "69\n"
     ]
    }
   ],
   "source": [
    "import fnmatch\n",
    "import os\n",
    "from analysis_methods import *\n",
    "\n",
    "blank_data_210 = [] # in list form. First is retention time, and second is intensity, third datetime\n",
    "\n",
    "reaction_data = [] ## in list of list form\n",
    "\n",
    "reaction_number = '0' ## implemented but not in use right now\n",
    "is_there_blank = False\n",
    "peak_width = 0.04\n",
    "folder = r\"/Users/luke/Desktop/01-12/\"\n",
    "max_data_point_amount = 200\n",
    "for file in os.listdir(folder):\n",
    "\n",
    "    if fnmatch.fnmatch(file, '*blank*'):\n",
    "        print('here')\n",
    "        is_there_blank = True\n",
    "\n",
    "        blank_csv_file = os.path.join(folder,file)\n",
    "        time_csv_file = os.path.join(folder,file,'Automatically_Generated_Report00.CSV')\n",
    "        retention_time, blank_intensity = extract_data(blank_csv_file)\n",
    "        blank_data_210.append(retention_time)\n",
    "        blank_data_210.append(blank_intensity)\n",
    "        blank_data_210.append(extract_time(time_csv_file))\n",
    "\n",
    "for i in range(max_data_point_amount):\n",
    "    for file in os.listdir(folder):\n",
    "        if fnmatch.fnmatch(file, \"*-\"+str(i)+\"-hydra*\"):\n",
    "            if is_there_blank:\n",
    "                reaction_number = file[file.find(' ')+1:file.find(' ')+4]\n",
    "            print(i)\n",
    "            reaction_csv_file = os.path.join(folder,file)\n",
    "            time_csv_file = os.path.join(folder,file,'Automatically_Generated_Report00.CSV')\n",
    "\n",
    "            retention_time, intensity = extract_data(reaction_csv_file)\n",
    "            time = extract_time(time_csv_file)\n",
    "            reaction_data.append([retention_time,intensity,time])\n",
    "\n",
    "data_amount = len(reaction_data)"
   ]
  },
  {
   "cell_type": "code",
   "execution_count": 2,
   "outputs": [
    {
     "name": "stdout",
     "output_type": "stream",
     "text": [
      "8402\n",
      "8402\n",
      "8403\n",
      "8403\n",
      "8402\n",
      "8403\n",
      "8402\n",
      "8403\n",
      "8402\n",
      "8402\n",
      "8403\n",
      "8402\n",
      "8403\n",
      "8402\n",
      "8402\n",
      "8402\n",
      "8403\n",
      "8403\n",
      "8403\n",
      "8403\n",
      "8402\n",
      "8402\n",
      "8403\n",
      "8402\n",
      "8403\n",
      "8402\n",
      "8403\n",
      "8402\n",
      "8403\n",
      "8403\n",
      "8402\n",
      "8403\n",
      "8402\n",
      "8403\n",
      "8404\n",
      "8402\n",
      "8402\n",
      "8402\n",
      "8403\n",
      "8402\n",
      "8403\n",
      "8402\n",
      "8403\n",
      "8403\n",
      "8402\n",
      "8403\n",
      "8403\n",
      "8402\n",
      "8403\n",
      "8402\n",
      "8402\n",
      "8403\n",
      "8403\n",
      "8402\n",
      "8402\n",
      "8403\n",
      "8402\n",
      "8403\n",
      "8403\n",
      "8402\n",
      "8402\n",
      "8403\n",
      "8403\n",
      "8403\n",
      "8403\n",
      "8403\n",
      "8403\n",
      "8402\n",
      "8402\n"
     ]
    }
   ],
   "source": [
    "for i in reaction_data:\n",
    "    print(len(i[1]))"
   ],
   "metadata": {
    "collapsed": false,
    "pycharm": {
     "name": "#%%\n"
    }
   }
  },
  {
   "cell_type": "code",
   "execution_count": 3,
   "outputs": [],
   "source": [
    "time_point = [0]\n",
    "for i in range(len(reaction_data)-1):\n",
    "    time_point.append((reaction_data[i][2]-blank_data_210[2]).total_seconds()/3600)"
   ],
   "metadata": {
    "collapsed": false,
    "pycharm": {
     "name": "#%%\n"
    }
   }
  },
  {
   "cell_type": "code",
   "execution_count": 4,
   "outputs": [
    {
     "name": "stdout",
     "output_type": "stream",
     "text": [
      "[0.79583333 0.79625    0.79666667 0.79708333 0.7975     0.79791667\n",
      " 0.79833333 0.79875    0.79916667 0.79958333 0.8        0.80041667\n",
      " 0.80083333 0.80125    0.80166667 0.80208333 0.8025     0.80291667\n",
      " 0.80333333 0.80375    0.80416667 0.80458333 0.805      0.80541667\n",
      " 0.80583333 0.80625    0.80666667 0.80708333 0.8075     0.80791667\n",
      " 0.80833333 0.80875    0.80916667 0.80958333 0.81       0.81041667\n",
      " 0.81083333 0.81125    0.81166667 0.81208333 0.8125     0.81291667\n",
      " 0.81333333 0.81375    0.81416667 0.81458333 0.815      0.81541667\n",
      " 0.81583333 0.81625    0.81666667] [2.80821571 2.81788238 2.83454905 2.86238238 2.88688238 2.90238238\n",
      " 2.92971571 2.94738238 2.97604905 3.01288238 3.05604905 3.12171571\n",
      " 3.18521571 3.25538238 3.31771571 3.37554905 3.43654905 3.47838238\n",
      " 3.52788238 3.57921571 3.63238238 3.69538238 3.75571571 3.83004905\n",
      " 3.90088238 3.97871571 4.05588238 4.11438238 4.17254905 4.22354905\n",
      " 4.26521571 4.30254905 4.33854905 4.37254905 4.41621571 4.45804905\n",
      " 4.50438238 4.54854905 4.58521571 4.62821571 4.65438238 4.68388238\n",
      " 4.71388238 4.73788238 4.78004905 4.83154905 4.88338238 4.93588238\n",
      " 4.97204905 5.00338238 5.02721571]\n",
      "[0.81666667 0.81708333 0.8175     0.81791667 0.81833333 0.81875\n",
      " 0.81916667 0.81958333] [8.12093142 5.03838238 5.06038238 5.07621571 5.09904905 5.12571571\n",
      " 5.14671571 5.16471571]\n",
      "[0.82] [5.17304905]\n"
     ]
    },
    {
     "ename": "error",
     "evalue": "(m>k) failed for hidden m: fpcurf0:m=1",
     "output_type": "error",
     "traceback": [
      "\u001B[0;31m---------------------------------------------------------------------------\u001B[0m",
      "\u001B[0;31merror\u001B[0m                                     Traceback (most recent call last)",
      "\u001B[0;32m<ipython-input-4-2110a18ccd9d>\u001B[0m in \u001B[0;36m<module>\u001B[0;34m\u001B[0m\n\u001B[1;32m      4\u001B[0m \u001B[0;32mfor\u001B[0m \u001B[0mi\u001B[0m \u001B[0;32min\u001B[0m \u001B[0mrange\u001B[0m\u001B[0;34m(\u001B[0m\u001B[0mdata_amount\u001B[0m\u001B[0;34m)\u001B[0m\u001B[0;34m:\u001B[0m\u001B[0;34m\u001B[0m\u001B[0;34m\u001B[0m\u001B[0m\n\u001B[1;32m      5\u001B[0m     \u001B[0md\u001B[0m \u001B[0;34m=\u001B[0m \u001B[0;34m[\u001B[0m\u001B[0mreaction_data\u001B[0m\u001B[0;34m[\u001B[0m\u001B[0mi\u001B[0m\u001B[0;34m]\u001B[0m\u001B[0;34m[\u001B[0m\u001B[0;36m0\u001B[0m\u001B[0;34m]\u001B[0m\u001B[0;34m,\u001B[0m\u001B[0mreaction_data\u001B[0m\u001B[0;34m[\u001B[0m\u001B[0mi\u001B[0m\u001B[0;34m]\u001B[0m\u001B[0;34m[\u001B[0m\u001B[0;36m1\u001B[0m\u001B[0;34m]\u001B[0m\u001B[0;34m]\u001B[0m\u001B[0;34m\u001B[0m\u001B[0;34m\u001B[0m\u001B[0m\n\u001B[0;32m----> 6\u001B[0;31m     \u001B[0mtimes\u001B[0m\u001B[0;34m,\u001B[0m\u001B[0mareas\u001B[0m\u001B[0;34m,\u001B[0m\u001B[0m_\u001B[0m \u001B[0;34m=\u001B[0m \u001B[0mpeak_properties\u001B[0m\u001B[0;34m(\u001B[0m\u001B[0mblank_data_210\u001B[0m\u001B[0;34m,\u001B[0m\u001B[0md\u001B[0m\u001B[0;34m)\u001B[0m\u001B[0;34m\u001B[0m\u001B[0;34m\u001B[0m\u001B[0m\n\u001B[0m\u001B[1;32m      7\u001B[0m     \u001B[0;32mfor\u001B[0m \u001B[0mtime\u001B[0m \u001B[0;32min\u001B[0m \u001B[0mtimes\u001B[0m\u001B[0;34m:\u001B[0m\u001B[0;34m\u001B[0m\u001B[0;34m\u001B[0m\u001B[0m\n\u001B[1;32m      8\u001B[0m         \u001B[0mis_in\u001B[0m \u001B[0;34m=\u001B[0m \u001B[0;32mFalse\u001B[0m\u001B[0;34m\u001B[0m\u001B[0;34m\u001B[0m\u001B[0m\n",
      "\u001B[0;32m~/PycharmProjects/untitled1/analysis_methods.py\u001B[0m in \u001B[0;36mpeak_properties\u001B[0;34m(blank_data, reaction_data, internal_standard_retention_time, peak_width, detection_limit, plot)\u001B[0m\n\u001B[1;32m    174\u001B[0m                 \u001B[0mcurrent_peak_intensity\u001B[0m \u001B[0;34m-=\u001B[0m \u001B[0mbase_intensity\u001B[0m\u001B[0;34m\u001B[0m\u001B[0;34m\u001B[0m\u001B[0m\n\u001B[1;32m    175\u001B[0m \u001B[0;34m\u001B[0m\u001B[0m\n\u001B[0;32m--> 176\u001B[0;31m                 \u001B[0mpeak_area_min\u001B[0m\u001B[0;34m.\u001B[0m\u001B[0mappend\u001B[0m\u001B[0;34m(\u001B[0m\u001B[0mintegration\u001B[0m\u001B[0;34m(\u001B[0m\u001B[0mcurrent_peak_time\u001B[0m\u001B[0;34m,\u001B[0m \u001B[0mcurrent_peak_intensity\u001B[0m\u001B[0;34m)\u001B[0m\u001B[0;34m)\u001B[0m\u001B[0;34m\u001B[0m\u001B[0;34m\u001B[0m\u001B[0m\n\u001B[0m\u001B[1;32m    177\u001B[0m \u001B[0;34m\u001B[0m\u001B[0m\n\u001B[1;32m    178\u001B[0m \u001B[0;34m\u001B[0m\u001B[0m\n",
      "\u001B[0;32m~/PycharmProjects/untitled1/analysis_methods.py\u001B[0m in \u001B[0;36mintegration\u001B[0;34m(x, y)\u001B[0m\n\u001B[1;32m     63\u001B[0m     \u001B[0;31m# interpolation\u001B[0m\u001B[0;34m\u001B[0m\u001B[0;34m\u001B[0m\u001B[0;34m\u001B[0m\u001B[0m\n\u001B[1;32m     64\u001B[0m     \u001B[0mprint\u001B[0m\u001B[0;34m(\u001B[0m\u001B[0mx\u001B[0m\u001B[0;34m,\u001B[0m\u001B[0my\u001B[0m\u001B[0;34m)\u001B[0m\u001B[0;34m\u001B[0m\u001B[0;34m\u001B[0m\u001B[0m\n\u001B[0;32m---> 65\u001B[0;31m     \u001B[0mfn\u001B[0m \u001B[0;34m=\u001B[0m \u001B[0mUnivariateSpline\u001B[0m\u001B[0;34m(\u001B[0m\u001B[0mx\u001B[0m\u001B[0;34m,\u001B[0m \u001B[0my\u001B[0m\u001B[0;34m,\u001B[0m \u001B[0mk\u001B[0m\u001B[0;34m=\u001B[0m\u001B[0;36m5\u001B[0m\u001B[0;34m)\u001B[0m\u001B[0;34m\u001B[0m\u001B[0;34m\u001B[0m\u001B[0m\n\u001B[0m\u001B[1;32m     66\u001B[0m \u001B[0;34m\u001B[0m\u001B[0m\n\u001B[1;32m     67\u001B[0m     \u001B[0mresults\u001B[0m \u001B[0;34m=\u001B[0m \u001B[0mquad\u001B[0m\u001B[0;34m(\u001B[0m\u001B[0mfn\u001B[0m\u001B[0;34m,\u001B[0m \u001B[0mx\u001B[0m\u001B[0;34m[\u001B[0m\u001B[0;36m0\u001B[0m\u001B[0;34m]\u001B[0m\u001B[0;34m,\u001B[0m \u001B[0mx\u001B[0m\u001B[0;34m[\u001B[0m\u001B[0;34m-\u001B[0m\u001B[0;36m1\u001B[0m\u001B[0;34m]\u001B[0m\u001B[0;34m)\u001B[0m\u001B[0;34m[\u001B[0m\u001B[0;36m0\u001B[0m\u001B[0;34m]\u001B[0m\u001B[0;34m\u001B[0m\u001B[0;34m\u001B[0m\u001B[0m\n",
      "\u001B[0;32m/Library/Frameworks/Python.framework/Versions/3.8/lib/python3.8/site-packages/scipy/interpolate/fitpack2.py\u001B[0m in \u001B[0;36m__init__\u001B[0;34m(self, x, y, w, bbox, k, s, ext, check_finite)\u001B[0m\n\u001B[1;32m    174\u001B[0m \u001B[0;34m\u001B[0m\u001B[0m\n\u001B[1;32m    175\u001B[0m         \u001B[0;31m# _data == x,y,w,xb,xe,k,s,n,t,c,fp,fpint,nrdata,ier\u001B[0m\u001B[0;34m\u001B[0m\u001B[0;34m\u001B[0m\u001B[0;34m\u001B[0m\u001B[0m\n\u001B[0;32m--> 176\u001B[0;31m         data = dfitpack.fpcurf0(x, y, k, w=w, xb=bbox[0],\n\u001B[0m\u001B[1;32m    177\u001B[0m                                 xe=bbox[1], s=s)\n\u001B[1;32m    178\u001B[0m         \u001B[0;32mif\u001B[0m \u001B[0mdata\u001B[0m\u001B[0;34m[\u001B[0m\u001B[0;34m-\u001B[0m\u001B[0;36m1\u001B[0m\u001B[0;34m]\u001B[0m \u001B[0;34m==\u001B[0m \u001B[0;36m1\u001B[0m\u001B[0;34m:\u001B[0m\u001B[0;34m\u001B[0m\u001B[0;34m\u001B[0m\u001B[0m\n",
      "\u001B[0;31merror\u001B[0m: (m>k) failed for hidden m: fpcurf0:m=1"
     ]
    }
   ],
   "source": [
    "distinct_peak_retention_time = []\n",
    "peak_ratio = []\n",
    "\n",
    "for i in range(data_amount):\n",
    "    d = [reaction_data[i][0],reaction_data[i][1]]\n",
    "    times,areas,_ = peak_properties(blank_data_210,d)\n",
    "    for time in times:\n",
    "        is_in = False\n",
    "        for t in distinct_peak_retention_time:\n",
    "            if abs(t-time)<=peak_width:\n",
    "                is_in = True\n",
    "\n",
    "        if not is_in:\n",
    "            distinct_peak_retention_time.append(time)\n",
    "\n",
    "for p in distinct_peak_retention_time:\n",
    "    peak_ratio.append([])\n"
   ],
   "metadata": {
    "collapsed": false,
    "pycharm": {
     "name": "#%%\n"
    }
   }
  },
  {
   "cell_type": "code",
   "execution_count": null,
   "outputs": [],
   "source": [
    "for z in range(data_amount):\n",
    "    times,areas,_=peak_properties(blank_data_210,reaction_data[z],plot=True)\n",
    "    for i in range(len(times)):\n",
    "        for j in range(len(distinct_peak_retention_time)):\n",
    "            if abs(distinct_peak_retention_time[j]-times[i])<peak_width:\n",
    "                peak_ratio[j].append(areas[i])\n",
    "    for k in range(len(peak_ratio)):\n",
    "        if len(peak_ratio[k])==z:\n",
    "\n",
    "            peak_ratio[k].append(0)\n"
   ],
   "metadata": {
    "collapsed": false,
    "pycharm": {
     "name": "#%%\n"
    }
   }
  },
  {
   "cell_type": "code",
   "execution_count": null,
   "outputs": [],
   "source": [],
   "metadata": {
    "collapsed": false,
    "pycharm": {
     "name": "#%%\n"
    }
   }
  },
  {
   "cell_type": "code",
   "execution_count": null,
   "outputs": [],
   "source": [
    "# plt.scatter(time_point,peak_ratio[0])\n",
    "# plt.scatter(time_point,peak_ratio[1])\n",
    "# plt.scatter(time_point,peak_ratio[2])\n",
    "plt.scatter(time_point,peak_ratio[3])\n",
    "plt.scatter(time_point,peak_ratio[4])\n",
    "\n",
    "\n",
    "# f_acid = UnivariateSpline(time_point[1:],peak_ratio[0])\n",
    "# f_internal = UnivariateSpline(time_point[1:],peak_ratio[1])\n",
    "# f_intermediate = UnivariateSpline(time_point[1:],peak_ratio[2])\n",
    "# f_amine = UnivariateSpline(time_point[1:],peak_ratio[3])\n",
    "# f_product = UnivariateSpline(time_point[1:],peak_ratio[4])\n",
    "\n",
    "plt.xlabel('hours')\n",
    "plt.ylabel('peak ratio')\n",
    "plt.legend(['Acid','Internal Standard','Intermediate','Amine','Product'])\n",
    "plt.show()"
   ],
   "metadata": {
    "collapsed": false,
    "pycharm": {
     "name": "#%%\n"
    }
   }
  },
  {
   "cell_type": "code",
   "execution_count": null,
   "outputs": [],
   "source": [
    "time_point"
   ],
   "metadata": {
    "collapsed": false,
    "pycharm": {
     "name": "#%%\n"
    }
   }
  },
  {
   "cell_type": "code",
   "execution_count": null,
   "outputs": [],
   "source": [
    "peak_ratio[3]"
   ],
   "metadata": {
    "collapsed": false,
    "pycharm": {
     "name": "#%%\n"
    }
   }
  },
  {
   "cell_type": "code",
   "execution_count": null,
   "outputs": [],
   "source": [
    "time_point,peak_ratio[3]"
   ],
   "metadata": {
    "collapsed": false,
    "pycharm": {
     "name": "#%%\n"
    }
   }
  },
  {
   "cell_type": "code",
   "execution_count": null,
   "outputs": [],
   "source": [
    "distinct_peak_retention_time\n",
    "\n"
   ],
   "metadata": {
    "collapsed": false,
    "pycharm": {
     "name": "#%%\n"
    }
   }
  },
  {
   "cell_type": "code",
   "execution_count": null,
   "outputs": [],
   "source": [],
   "metadata": {
    "collapsed": false,
    "pycharm": {
     "name": "#%%\n"
    }
   }
  }
 ],
 "metadata": {
  "kernelspec": {
   "display_name": "Python 3",
   "language": "python",
   "name": "python3"
  },
  "language_info": {
   "codemirror_mode": {
    "name": "ipython",
    "version": 2
   },
   "file_extension": ".py",
   "mimetype": "text/x-python",
   "name": "python",
   "nbconvert_exporter": "python",
   "pygments_lexer": "ipython2",
   "version": "2.7.6"
  }
 },
 "nbformat": 4,
 "nbformat_minor": 0
}