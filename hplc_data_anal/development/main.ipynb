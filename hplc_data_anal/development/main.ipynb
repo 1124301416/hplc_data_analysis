{
 "cells": [
  {
   "cell_type": "code",
   "execution_count": 1,
   "metadata": {
    "collapsed": true
   },
   "outputs": [],
   "source": [
    "import pandas as pd\n",
    "import numpy as np\n",
    "import matplotlib.pyplot as plt\n",
    "from scipy.integrate import quad\n",
    "from scipy.interpolate import UnivariateSpline\n",
    "\n",
    "dead_volume_time = 0.6\n",
    "f_blank = pd.read_csv('DAD1 A 210 nm blank.csv').to_numpy()\n",
    "retention_time = f_blank[1:,0]\n",
    "intensity_blank_data = f_blank[1:,1]\n",
    "INTERNAL_STANDARD_RETENTION_TIME = 1.77 #min\n",
    "PEAK_WIDTH = 0.04 #min\n",
    "DETECTION_LIMIT = 20\n",
    "\n",
    "test_1 = pd.read_csv('DAD1 A 210 nm test1.csv').to_numpy()\n",
    "intensity_raw_data = test_1[1:,1]\n",
    "\n",
    "def integration(x,y):\n",
    "    #interpolation\n",
    "    fn = UnivariateSpline(x, y,k=5)\n",
    "\n",
    "    results = quad(fn,x[0],x[-1])[0]\n",
    "    return results"
   ]
  },
  {
   "cell_type": "code",
   "execution_count": 2,
   "outputs": [
    {
     "name": "stdout",
     "output_type": "stream",
     "text": [
      "1438\n"
     ]
    }
   ],
   "source": [
    "# Calculate baseline\n",
    "processed_data = intensity_raw_data-intensity_blank_data\n",
    "base_data = []\n",
    "for i in range(len(processed_data)):\n",
    "    if abs(processed_data[i])<=3:\n",
    "        base_data.append(processed_data[i])\n",
    "base_intensity = np.average(base_data)\n",
    "\n",
    "\n",
    "\n",
    "## discard dead volume\n",
    "\n",
    "time_index = 0\n",
    "for i in range(len(retention_time)):\n",
    "    time_index = i\n",
    "    if retention_time[i]>=dead_volume_time:\n",
    "        break\n",
    "\n",
    "print(time_index)\n",
    "\n",
    "retention_time = retention_time[time_index:]\n",
    "processed_data = processed_data[time_index:]"
   ],
   "metadata": {
    "collapsed": false,
    "pycharm": {
     "name": "#%%\n"
    }
   }
  },
  {
   "cell_type": "code",
   "execution_count": 3,
   "outputs": [
    {
     "data": {
      "text/plain": "<Figure size 432x288 with 1 Axes>",
      "image/png": "[encoded data removed]"
     },
     "metadata": {
      "needs_background": "light"
     },
     "output_type": "display_data"
    }
   ],
   "source": [
    "diff = np.diff(processed_data)\n",
    "scale = max(processed_data)/max(diff)\n",
    "diff = diff*scale\n",
    "\n",
    "\n",
    "# calculate base derivatives\n",
    "\n",
    "base_diff_data = []\n",
    "for i in range(len(diff)):\n",
    "    if abs(diff[i])<=1:\n",
    "        base_diff_data.append(diff[i])\n",
    "\n",
    "base_diff = np.average(base_diff_data)\n",
    "plt.plot(retention_time,processed_data)\n",
    "plt.show()"
   ],
   "metadata": {
    "collapsed": false,
    "pycharm": {
     "name": "#%%\n"
    }
   }
  },
  {
   "cell_type": "code",
   "execution_count": 4,
   "outputs": [
    {
     "name": "stdout",
     "output_type": "stream",
     "text": [
      "2287\n",
      "1.54 1.63625\n",
      "2741\n",
      "1.73 1.8258333333333332\n"
     ]
    },
    {
     "data": {
      "text/plain": "(1.5, 1.8)"
     },
     "execution_count": 4,
     "metadata": {},
     "output_type": "execute_result"
    },
    {
     "data": {
      "text/plain": "<Figure size 432x288 with 1 Axes>",
      "image/png": "[encoded data removed]"
     },
     "metadata": {
      "needs_background": "light"
     },
     "output_type": "display_data"
    }
   ],
   "source": [
    "#picking out peaks\n",
    "\n",
    "data_process_index = 0\n",
    "maxima = []\n",
    "maximum_retention_time = []\n",
    "peak_area_min = []\n",
    "\n",
    "for i in range(len(processed_data)):\n",
    "    already_processed = data_process_index >= i\n",
    "    if already_processed:\n",
    "        pass\n",
    "    else:\n",
    "        if processed_data[i]-base_intensity >= DETECTION_LIMIT:\n",
    "            print((i))\n",
    "            # find a peak who has intensity greater than 5\n",
    "            search_index_left = i\n",
    "            search_index_right = i\n",
    "            while abs(diff[search_index_left])>=base_diff+ 0.3 and processed_data[search_index_left] >= base_intensity:\n",
    "                search_index_left -= 1\n",
    "            while (abs(diff[search_index_right])>=base_diff+ 0.3 or processed_data[search_index_right]>=DETECTION_LIMIT) \\\n",
    "                    and processed_data[search_index_right] >=  base_intensity:\n",
    "                search_index_right += 1\n",
    "            print(retention_time[search_index_left],retention_time[search_index_right])\n",
    "            data_process_index = search_index_right\n",
    "\n",
    "            #current peak analysis\n",
    "            current_peak_time = retention_time[search_index_left:search_index_right+1]\n",
    "            current_peak_intensity = processed_data[search_index_left:search_index_right+1]\n",
    "            try:\n",
    "                fn = UnivariateSpline(current_peak_time, current_peak_intensity)\n",
    "                current_peak_intensity_spline = fn(current_peak_time)\n",
    "                plt.plot(current_peak_time,current_peak_intensity_spline)\n",
    "            except:\n",
    "                pass\n",
    "            # find the peak max and time\n",
    "\n",
    "            max_int_point = 0\n",
    "            max_int_time = 0\n",
    "\n",
    "            for i in range(len(current_peak_intensity)):\n",
    "                if current_peak_intensity[i]>=max_int_point:\n",
    "                    max_int_time = current_peak_time[i]\n",
    "                    max_int_point = current_peak_intensity[i]\n",
    "\n",
    "            maximum_retention_time.append(max_int_time)\n",
    "            maxima.append(max_int_point)\n",
    "\n",
    "            #\n",
    "            # #integrate\n",
    "            try:\n",
    "                current_peak_intensity -= base_intensity\n",
    "                peak_area_min.append(integration(current_peak_time,current_peak_intensity))\n",
    "            except:\n",
    "                pass\n",
    "peak_area_sec = []\n",
    "for area in peak_area_min:\n",
    "    peak_area_sec.append(area*60)\n",
    "plt.plot(retention_time,processed_data,'--')\n",
    "plt.xlim(1.5,1.8)"
   ],
   "metadata": {
    "collapsed": false,
    "pycharm": {
     "name": "#%%\n"
    }
   }
  },
  {
   "cell_type": "code",
   "execution_count": 5,
   "outputs": [
    {
     "data": {
      "text/plain": "[1.0481843693481832, 1.0]"
     },
     "execution_count": 5,
     "metadata": {},
     "output_type": "execute_result"
    }
   ],
   "source": [
    "## Recognize peaks\n",
    "internal_standard_retention_time = 0\n",
    "internal_standard_peak_area = 0\n",
    "for i in range(len(maximum_retention_time)):\n",
    "    if abs(maximum_retention_time[i]-INTERNAL_STANDARD_RETENTION_TIME)<=PEAK_WIDTH:\n",
    "        internal_standard_retention_time = maximum_retention_time[i]\n",
    "        internal_standard_peak_area = peak_area_min[i]\n",
    "    else:\n",
    "        pass\n",
    "\n",
    "#ratio calculation\n",
    "peak_ratio = []\n",
    "for area in peak_area_min:\n",
    "    peak_ratio.append(area/internal_standard_peak_area)\n",
    "\n",
    "peak_ratio\n",
    "\n",
    "\n"
   ],
   "metadata": {
    "collapsed": false,
    "pycharm": {
     "name": "#%%\n"
    }
   }
  },
  {
   "cell_type": "code",
   "execution_count": 5,
   "outputs": [],
   "source": [],
   "metadata": {
    "collapsed": false,
    "pycharm": {
     "name": "#%%\n"
    }
   }
  },
  {
   "cell_type": "code",
   "execution_count": 5,
   "outputs": [],
   "source": [],
   "metadata": {
    "collapsed": false,
    "pycharm": {
     "name": "#%%\n"
    }
   }
  }
 ],
 "metadata": {
  "kernelspec": {
   "display_name": "Python 3",
   "language": "python",
   "name": "python3"
  },
  "language_info": {
   "codemirror_mode": {
    "name": "ipython",
    "version": 2
   },
   "file_extension": ".py",
   "mimetype": "text/x-python",
   "name": "python",
   "nbconvert_exporter": "python",
   "pygments_lexer": "ipython2",
   "version": "2.7.6"
  }
 },
 "nbformat": 4,
 "nbformat_minor": 0
}