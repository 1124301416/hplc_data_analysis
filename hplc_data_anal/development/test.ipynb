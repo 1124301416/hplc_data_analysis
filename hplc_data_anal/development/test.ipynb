{
 "cells": [
  {
   "cell_type": "code",
   "execution_count": 2,
   "metadata": {
    "collapsed": true
   },
   "outputs": [
    {
     "data": {
      "text/plain": "['mass_spec',\n 'DAD1 A 210 nm blank.csv',\n 'peak_idenfication.ipynb',\n 'heinlab32',\n 'main.ipynb',\n 'file_search.ipynb',\n 'DAD1 A 210 nm test1.csv',\n '.DS_Store',\n 'deck.py',\n 'archive',\n 'peak_process_and_visualization.py',\n 'analysis_method.py',\n '__pycache__',\n 'test.py',\n 'peak_sample.csv',\n 'plotting_test.py',\n 'mass_spec.zip',\n 'gm_data',\n 'watcher.py',\n 'Automatically_Generated_Report00.CSV',\n 'test.ipynb',\n 'slack.py',\n 'generate_gif.ipynb',\n '.idea']"
     },
     "execution_count": 2,
     "metadata": {},
     "output_type": "execute_result"
    }
   ],
   "source": [
    "import os\n",
    "from fnmatch import fnmatch\n",
    "os.listdir()"
   ]
  },
  {
   "cell_type": "code",
   "execution_count": null,
   "outputs": [],
   "source": [
    "\n"
   ],
   "metadata": {
    "collapsed": false,
    "pycharm": {
     "name": "#%%\n"
    }
   }
  }
 ],
 "metadata": {
  "kernelspec": {
   "display_name": "Python 3",
   "language": "python",
   "name": "python3"
  },
  "language_info": {
   "codemirror_mode": {
    "name": "ipython",
    "version": 2
   },
   "file_extension": ".py",
   "mimetype": "text/x-python",
   "name": "python",
   "nbconvert_exporter": "python",
   "pygments_lexer": "ipython2",
   "version": "2.7.6"
  }
 },
 "nbformat": 4,
 "nbformat_minor": 0
}