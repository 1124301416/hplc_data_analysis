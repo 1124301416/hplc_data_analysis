{
 "cells": [
  {
   "cell_type": "code",
   "execution_count": 4,
   "metadata": {
    "collapsed": true
   },
   "outputs": [
    {
     "data": {
      "text/plain": "array([-132.94333333, -132.95      , -132.95383333, ..., -402.32666667,\n       -402.332     , -402.33466667])"
     },
     "execution_count": 4,
     "metadata": {},
     "output_type": "execute_result"
    }
   ],
   "source": [
    "import fnmatch\n",
    "import os\n",
    "from analysis_methods import *\n",
    "blank_data_210 = []  # in list form. First is retention time, and second is intensity, third datetime\n",
    "\n",
    "reaction_data_210 = []  ## in list of list form\n",
    "peak_width = 0.04\n",
    "folder = r\"/Users/luke/Desktop/new/\"\n",
    "max_data_point_amount = 200\n",
    "is_there_blank =False\n",
    "internal_standard = 1.77\n",
    "\n",
    "for file in os.listdir(folder):\n",
    "\n",
    "    if fnmatch.fnmatch(file, '*blank*'):\n",
    "        is_there_blank = True\n",
    "\n",
    "        blank_csv_file = os.path.join(folder, file, 'DAD1 A 210 nm (4 nm).csv')\n",
    "        time_csv_file = os.path.join(folder, file, 'Automatically_Generated_Report00.CSV')\n",
    "        retention_time, blank_intensity = extract_data(blank_csv_file)\n",
    "        blank_data_210.append(retention_time)\n",
    "        blank_data_210.append(blank_intensity)\n",
    "        blank_data_210.append(extract_time(time_csv_file))\n",
    "\n",
    "for i in range(max_data_point_amount):\n",
    "    for file in os.listdir(folder):\n",
    "        if fnmatch.fnmatch(file, \"*-\" + str(i) + \"-hydra*\"):\n",
    "            if is_there_blank:\n",
    "                reaction_number = file[file.find(' ') + 1:file.find(' ') + 4]\n",
    "\n",
    "            reaction_csv_file = os.path.join(folder, file, 'DAD1 A 210 nm (4 nm).csv')\n",
    "            time_csv_file = os.path.join(folder, file, 'Automatically_Generated_Report00.CSV')\n",
    "            try:\n",
    "                retention_time, intensity = extract_data(reaction_csv_file)\n",
    "                time = extract_time(time_csv_file)\n",
    "            except FileNotFoundError:\n",
    "                retention_time, intensity, time = [], [], []\n",
    "            reaction_data_210.append([retention_time, intensity, time])\n",
    "\n",
    "i = len(reaction_data_210)-1\n",
    "while reaction_data_210[len(reaction_data_210)-1][0] == []:\n",
    "    i -= 1\n",
    "\n",
    "retention_time, peak_ratio, _ = peak_properties(blank_data_210,reaction_data_210[i])\n"
   ]
  },
  {
   "cell_type": "code",
   "execution_count": null,
   "outputs": [],
   "source": [],
   "metadata": {
    "collapsed": false,
    "pycharm": {
     "name": "#%%\n"
    }
   }
  }
 ],
 "metadata": {
  "kernelspec": {
   "display_name": "Python 3",
   "language": "python",
   "name": "python3"
  },
  "language_info": {
   "codemirror_mode": {
    "name": "ipython",
    "version": 2
   },
   "file_extension": ".py",
   "mimetype": "text/x-python",
   "name": "python",
   "nbconvert_exporter": "python",
   "pygments_lexer": "ipython2",
   "version": "2.7.6"
  }
 },
 "nbformat": 4,
 "nbformat_minor": 0
}